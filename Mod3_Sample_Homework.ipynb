{
 "cells": [
  {
   "cell_type": "markdown",
   "metadata": {},
   "source": [
    "# Mod 3 Sample Homework \n",
    "\n",
    "This notebook is just a sample to figure out and demonstrate the workflow for students submitting homeworks, LFs grading them, grades being reported, and a regrade request handled.  "
   ]
  },
  {
   "cell_type": "code",
   "execution_count": 1,
   "metadata": {
    "code_folding": [
     0
    ]
   },
   "outputs": [],
   "source": [
    "# necessary imports\n",
    "\n",
    "\n",
    "import numpy as np\n",
    "from numpy import arange,linspace,mean, var, std\n",
    "from mpl_toolkits.mplot3d import Axes3D\n",
    "import matplotlib.pyplot as plt \n",
    "import matplotlib.mlab as mlab\n",
    "from numpy.random import random, randint, uniform, choice, binomial, geometric, poisson, exponential, normal \n",
    "from numpy.linalg import inv\n",
    "import math\n",
    "import pandas as pd\n",
    "from sklearn.linear_model import LinearRegression"
   ]
  },
  {
   "cell_type": "markdown",
   "metadata": {},
   "source": [
    " ## Linear Regression in Sklearn\n",
    " \n",
    "Just some simple calculations to produce answers to be graded. "
   ]
  },
  {
   "cell_type": "code",
   "execution_count": 6,
   "metadata": {},
   "outputs": [],
   "source": [
    "# sample data: this Example 6 from above; reshape as numpy arrays for sklearn\n",
    "\n",
    "# Assuming X and Y are your data arrays\n",
    "# X should be a 2D array of shape (n_samples, n_features)\n",
    "# Y should be a 1D array of shape (n_samples,)\n",
    "\n",
    "\n",
    "X = np.array(  [1.36, 1.71, 2.07, 2.43, 2.79, 3.14, 3.5 , 3.86, 4.21, 4.57,4.93]  ).reshape(-1,1)  \n",
    "Y = np.array(  [2.51, 1.27, 1.01, 1.47, 2.37, 3.43, 4.38, 4.94, 4.85, 3.83,1.61]  )   \n",
    "# print('X:',X)\n",
    "# print('Y:',Y)"
   ]
  },
  {
   "cell_type": "code",
   "execution_count": 7,
   "metadata": {},
   "outputs": [
    {
     "name": "stdout",
     "output_type": "stream",
     "text": [
      "beta_0: 0.7824\n",
      "beta_1: 0.6671\n"
     ]
    }
   ],
   "source": [
    "from sklearn.linear_model import LinearRegression\n",
    "     \n",
    "# Initialize the model\n",
    "model = LinearRegression()\n",
    "\n",
    "# Train the model\n",
    "model.fit(X, Y)\n",
    "\n",
    "# NOTE - sklearn stores the bias term separately from the others as a scalar\n",
    "#        rest of the parameters are stored in a list\n",
    "\n",
    "print(f\"beta_0: {model.intercept_:.4f}\") \n",
    "print(f\"beta_1: {model.coef_[0]:.4f}\")          # Since we know there is only one other, extract it from the list"
   ]
  },
  {
   "cell_type": "code",
   "execution_count": 8,
   "metadata": {},
   "outputs": [
    {
     "name": "stdout",
     "output_type": "stream",
     "text": [
      "[1.68976106 1.92326029 2.16343093 2.40360157 2.6437722  2.87727143\n",
      " 3.11744207 3.35761271 3.59111194 3.83128257 4.07145321]\n"
     ]
    }
   ],
   "source": [
    "# find the predictions model would make on X\n",
    "\n",
    "Y_pred = model.predict(X)\n",
    "print(Y_pred)"
   ]
  },
  {
   "cell_type": "code",
   "execution_count": 9,
   "metadata": {},
   "outputs": [
    {
     "name": "stdout",
     "output_type": "stream",
     "text": [
      "Mean Squared Error: 1.4021\n",
      "R² Score: 0.2881\n"
     ]
    }
   ],
   "source": [
    "# Find MSE and R^2\n",
    "\n",
    "from sklearn.metrics import mean_squared_error, r2_score\n",
    "\n",
    "# Calculate MSE\n",
    "mse = mean_squared_error(Y, Y_pred)\n",
    "print(f'Mean Squared Error: {mse:.4f}')\n",
    "\n",
    "# Calculate R²\n",
    "r2 = r2_score(Y, Y_pred)\n",
    "print(f'R² Score: {r2:.4f}')"
   ]
  }
 ],
 "metadata": {
  "kernelspec": {
   "display_name": "Python 3 (ipykernel)",
   "language": "python",
   "name": "python3"
  },
  "language_info": {
   "codemirror_mode": {
    "name": "ipython",
    "version": 3
   },
   "file_extension": ".py",
   "mimetype": "text/x-python",
   "name": "python",
   "nbconvert_exporter": "python",
   "pygments_lexer": "ipython3",
   "version": "3.8.8"
  }
 },
 "nbformat": 4,
 "nbformat_minor": 2
}
