{
 "cells": [
  {
   "cell_type": "markdown",
   "metadata": {},
   "source": [
    "# Homework 06: Decision Trees\n",
    "\n",
    "So far in this module, we have built a solid foundation in machine learning by focusing on linear regression and addressing a key challenge—the **model selection problem.** We have learned how to choose the right model, measure its performance, and fine-tune its parameters so that the model generalizes well to new data.\n",
    "\n",
    "This week, we turn our attention to a fundamentally different model: **decision trees.** Unlike regression models, where we typically adjust at most one key parameter (for example, the degree of a polynomial), decision trees have many interacting parameters that can significantly affect performance. As we move from simpler models to more complex ones, it becomes essential to develop a **systematic workflow** for exploring the parameter space and optimizing model performance.\n",
    "\n",
    "Next week, we will build on this foundation by studying **ensemble methods,** where multiple trees work together to produce even stronger predictive models. These methods will incorporate the parameters we explore this week, along with additional ones, offering even more flexibility in tuning but raising even more challenges in your workflow. \n",
    "\n",
    "### What We Will Do in This Homework\n",
    "\n",
    "To identify the best set of parameters for a model with many adjustable settings, there are two main approaches. You can either iterate through the parameters **manually** or use **automated search tools** such as grid search or random search. However, both methods have drawbacks. Manual iteration is time-consuming and exhausting, while automated searches can provide little insight and may not cover the most promising ranges. Exhaustively searching a huge parameter space is often unrealistic.\n",
    "\n",
    "For these reasons, we will employ a two-phase strategy:\n",
    "\n",
    "- **First Phase:** Visualize the effect of the most important parameters by plotting and calculating the minimal CV RMSE scores. Adjust the range of the plots to understand how each parameter behaves on its own or in combination with closely related parameters. This phase provides valuable insights, especially in identifying regions where performance is unstable or sensitive to parameter changes.\n",
    "- **Second Phase:** Focus on the most unstable parameter ranges identified in the first phase and perform an exhaustive search within these ranges to find the optimal model configuration.\n",
    "\n",
    "The homework is divided into four problems. The first three problems cover the first phase, and the fourth problem addresses the second phase:\n",
    "\n",
    "- **Problem One:** Tune the size and shape of the decision tree by adjusting `max_depth` and `max_leaf_nodes`.\n",
    "- **Problem Two:** Explore how the `max_features` parameter can improve performance by effectively performing on-the-fly feature selection during node splits.\n",
    "- **Problem Three:** Examine how `min_samples_split` influences performance by modifying the criteria for splitting nodes.\n",
    "- **Problem Four:** Based on the insights gained, use `GridSearchCV` to zero in on the best parameter choices.\n",
    "\n",
    "Before starting this homework, please review the lesson materials, watch the video, and download the decision tree notebook. This notebook contains code that you will refactor for this assignment—**refactoring existing code is an essential skill in machine learning.**\n",
    "\n",
    "**Note:** One significant change in this homework compared to previous notebooks is the use of `RepeatedKFold` to reduce the variance of our CV MSE scoring. Further details will be provided below.\n",
    "\n",
    "### Grading\n",
    "\n",
    "This homework has eight (8) graded problems, each worth 6 points, and you get 2 points free. "
   ]
  },
  {
   "cell_type": "code",
   "execution_count": null,
   "metadata": {},
   "outputs": [],
   "source": [
    "# Useful imports\n",
    "\n",
    "import os\n",
    "import kagglehub\n",
    "import pandas as pd\n",
    "import numpy as np\n",
    "import matplotlib.pyplot as plt\n",
    "import requests\n",
    "import io\n",
    "import zipfile\n",
    "import time\n",
    "\n",
    "from sklearn.model_selection import train_test_split, cross_val_score, RepeatedKFold,GridSearchCV\n",
    "from sklearn.tree            import DecisionTreeRegressor, plot_tree\n",
    "from sklearn.metrics         import mean_squared_error\n",
    "from tqdm                    import tqdm\n",
    "\n",
    "import matplotlib.ticker as mticker           # Optional: you can print out y axis labels as dollars. \n",
    "\n",
    "# globals\n",
    "\n",
    "random_state = 42\n"
   ]
  },
  {
   "cell_type": "code",
   "execution_count": null,
   "metadata": {},
   "outputs": [],
   "source": [
    "\n",
    "# utility code\n",
    "\n",
    "# Completely optional:  Format y-axis labels as dollars with commas\n",
    "def dollar_format(x, pos):\n",
    "    return f'${x:,.0f}'\n",
    "\n",
    "def format_time(seconds):\n",
    "    \n",
    "    # Convert seconds to hours, minutes, and remaining seconds\n",
    "    hours = int(seconds // 3600)\n",
    "    minutes = int((seconds % 3600) // 60)\n",
    "    remaining_seconds = seconds % 60\n",
    "    \n",
    "    # Return a formatted string    \n",
    "    if hours == 0 and minutes == 0:\n",
    "        return f\"{seconds:.2f}s\"\n",
    "    elif hours == 0:\n",
    "        return f\"{minutes}m {remaining_seconds:.2f}s\"\n",
    "\n",
    "    return f\"{hours}h {minutes}m {remaining_seconds:.2f}s\""
   ]
  },
  {
   "cell_type": "code",
   "execution_count": 72,
   "metadata": {},
   "outputs": [],
   "source": [
    "def summarize(model_type: str, rmse: float, max_depth=None, max_leaf_nodes=None, execution_time=None):\n",
    "    if execution_time is not None:\n",
    "        return {\n",
    "            'model_type': model_type,\n",
    "            'RMSE': rmse,\n",
    "            'max_depth': max_depth,\n",
    "            'max_leaf_nodes': max_leaf_nodes,\n",
    "            'execution_time': format_time(execution_time)\n",
    "        }\n",
    "\n",
    "    return {\n",
    "        'model_type': model_type,\n",
    "        'RMSE': rmse,\n",
    "        'max_depth': max_depth,\n",
    "        'max_leaf_nodes': max_leaf_nodes\n",
    "    }"
   ]
  },
  {
   "cell_type": "markdown",
   "metadata": {},
   "source": [
    "### Load the Ames Housing Dataset  \n",
    "\n",
    "The code cell below will load the dataset for you.  This is the same dataset we used for Homework 05. \n",
    "\n",
    "> **Notice** that this code includes a useful optimization: **before downloading, it first\n",
    "checks whether the files already exist.** This is a essential step when working with large datasets or when building deep learning models, where training can span hours or even days. By reusing previously downloaded files or saved models, you can avoid unnecessary work and significantly speed up your workflow.\n",
    "\n",
    "For a detailed description of the dataset features, please refer to the **Appendix** in Homework 05. "
   ]
  },
  {
   "cell_type": "code",
   "execution_count": 74,
   "metadata": {},
   "outputs": [
    {
     "name": "stdout",
     "output_type": "stream",
     "text": [
      "Dataset files already exist. Skipping download.\n",
      "Training and testing datasets loaded successfully.\n"
     ]
    }
   ],
   "source": [
    "\n",
    "data_dir = \"Ames_Dataset\"                              # Directory where files will be stored\n",
    "\n",
    "# Check if one of the files exists; if not, download and extract the zip file\n",
    "\n",
    "if not os.path.exists( os.path.join(data_dir, \"X_train.csv\") ):\n",
    "    print(\"Dataset files not found. Downloading...\")\n",
    "    zip_url = \"https://www.cs.bu.edu/fac/snyder/cs505/Data/ames_housing.zip\"\n",
    "    try:\n",
    "        response = requests.get(zip_url)\n",
    "        response.raise_for_status()  # Raise an error for bad status codes\n",
    "        # Extract the zip file into the designated directory\n",
    "        with zipfile.ZipFile(io.BytesIO(response.content)) as zipf:\n",
    "            zipf.extractall(data_dir)\n",
    "        print(\"Files downloaded and extracted successfully.\")\n",
    "    except requests.exceptions.RequestException as e:\n",
    "        print(f\"Error downloading the file: {e}\")\n",
    "else:\n",
    "    print(\"Dataset files already exist. Skipping download.\")\n",
    "\n",
    "# Load the datasets\n",
    "X_train = pd.read_csv(os.path.join(data_dir, \"X_train.csv\"))\n",
    "X_test  = pd.read_csv(os.path.join(data_dir, \"X_test.csv\"))\n",
    "y_train = pd.read_csv(os.path.join(data_dir, \"y_train.csv\")).squeeze(\"columns\")    \n",
    "y_test  = pd.read_csv(os.path.join(data_dir, \"y_test.csv\")).squeeze(\"columns\")\n",
    "\n",
    "print(\"Training and testing datasets loaded successfully.\")\n"
   ]
  },
  {
   "cell_type": "markdown",
   "metadata": {},
   "source": [
    "## Prelude: Wrapper Function for DecisionTreeRegressor\n",
    "\n",
    "In the next cell, you'll find the code from the video notebook that wraps together the model, CV scoring, and tree visualization (though visualization is not used in this homework). We made a few minor modifications:\n",
    "\n",
    "- Expanded the list of parameters to include the full set with default values.\n",
    "- Employed `RepeatedKFold` to perform 5-fold CV repeated 10 times, yielding 50 MSE scores for averaging instead of just 5.\n",
    "- Set the default value for `random_state` to 42.\n",
    "- Set the default value for the `visualize` parameter to `False`."
   ]
  },
  {
   "cell_type": "code",
   "execution_count": 36,
   "metadata": {},
   "outputs": [],
   "source": [
    "# Already provided: the code for run_decision_tree_regressor from the video notebook for week 6 with changes as noted\n",
    "\n",
    "# Wrapper around DecisionTreeRegressor with cross-validation\n",
    "def run_decision_tree_regressor(X_train,\n",
    "                                y_train,\n",
    "                                criterion                = 'squared_error',  # Default parameters for DecisionTreeRegressor\n",
    "                                splitter                 = 'best',\n",
    "                                max_depth                = None,\n",
    "                                min_samples_split        = 2,\n",
    "                                min_samples_leaf         = 1,\n",
    "                                min_weight_fraction_leaf = 0.0,\n",
    "                                max_features             = None,\n",
    "                                random_state             = 42,               # Not the default, but we'll use it consistently for reproducibility\n",
    "                                max_leaf_nodes           = None,\n",
    "                                min_impurity_decrease    = 0.0,\n",
    "                                ccp_alpha                = 0.0,     \n",
    "                                n_jobs                   = -1,               # Additional parameters for CV and display of plot and results\n",
    "                                visualize                = False,\n",
    "                                cv                       = 5,\n",
    "                                exp_factor               = 1.0\n",
    "                               ): \n",
    "    \n",
    "    # Initialize the DecisionTreeRegressor\n",
    "    decision_tree_model = DecisionTreeRegressor(criterion                = criterion,\n",
    "                                                splitter                 = splitter,\n",
    "                                                max_depth                = max_depth,\n",
    "                                                min_samples_split        = min_samples_split,\n",
    "                                                min_samples_leaf         = min_samples_leaf,\n",
    "                                                min_weight_fraction_leaf = min_weight_fraction_leaf,\n",
    "                                                max_features             = max_features,\n",
    "                                                random_state             = random_state,\n",
    "                                                max_leaf_nodes           = max_leaf_nodes,\n",
    "                                                min_impurity_decrease    = min_impurity_decrease,\n",
    "                                                ccp_alpha                = ccp_alpha\n",
    "                                               )\n",
    "\n",
    "    repeated_cv = RepeatedKFold(random_state=42)    # This will perform 5-fold CV 10 times and return 50 floats instead of 5 as before\n",
    "    \n",
    "    # Perform cross-validation and return mean CV MSE\n",
    "    neg_mse_scores = cross_val_score(decision_tree_model, \n",
    "                                     X_train, y_train,\n",
    "                                     scoring='neg_mean_squared_error',            \n",
    "                                     cv=repeated_cv,\n",
    "                                     n_jobs=n_jobs)\n",
    "\n",
    "    mean_cv_mse = (-np.mean(neg_mse_scores)) ** exp_factor  # Convert negative MSE back to positive\n",
    "\n",
    "    # Train the model on the full training set for visualization purposes\n",
    "    if visualize:\n",
    "        decision_tree_model.fit(X_train, y_train)  # Train on full training data for visualization\n",
    "        plt.figure(figsize=(12, 6))\n",
    "        plot_tree(decision_tree_model, feature_names=feature_names, filled=True, rounded=True, precision=4)\n",
    "        plt.title(f\"Decision Tree Structure (max_depth={max_depth})\")\n",
    "        plt.show()\n",
    "\n",
    "    return mean_cv_mse\n",
    "    "
   ]
  },
  {
   "cell_type": "markdown",
   "metadata": {},
   "source": [
    "## Problem One: Controlling the Decision Tree's Shape with `max_depth` and `max_leaf_nodes`\n",
    "\n",
    "In this problem, you will explore how the structure of a decision tree impacts its performance, using the cross-validated RMSE as the evaluation metric. Answer the following questions:\n",
    "\n",
    "**A.** How does the baseline model (with default parameters, except for `random_state=42`) perform on the dataset?\n",
    "\n",
    "**B.** When adjusting only the `max_depth` parameter, which depth produces the lowest CV RMSE?\n",
    "\n",
    "**C.** When adjusting only the `max_leaf_nodes` parameter, which value results in the best performance?\n",
    "\n",
    "**D.** Can a combination of `max_depth` and `max_leaf_nodes` yield a lower CV RMSE than optimizing either parameter independently?\n",
    "\n",
    "For parts **B** and **C**, you will modify the code from the video notebook with minimal changes. For part **D**, you'll use `GridSearchCV` to systematically evaluate various combinations of these two parameters."
   ]
  },
  {
   "cell_type": "markdown",
   "metadata": {},
   "source": [
    "### Part 1.A \n",
    "\n",
    "In the next cell, use `run_decision_tree_regressor` to establish a baseline CV RMSE score for the **training set.** Keep all the parameters at their default, but set `random_state=42`. \n",
    "\n",
    "Note: Make sure you report the RMSE; `run_decision_tree_regressor` returns the MSE. "
   ]
  },
  {
   "cell_type": "code",
   "execution_count": 75,
   "metadata": {},
   "outputs": [
    {
     "name": "stdout",
     "output_type": "stream",
     "text": [
      "Mean CV RMSE: 38,773.1748\n"
     ]
    }
   ],
   "source": [
    "# Your code here\n",
    "start = time.time()\n",
    "mean_cv_mse = run_decision_tree_regressor(X_train, y_train, visualize=False, exp_factor = 0.5)\n",
    "\n",
    "end = time.time()\n",
    "execution_time = end - start\n",
    "print(f\"Mean CV RMSE: {mean_cv_mse:,.4f}\")"
   ]
  },
  {
   "cell_type": "markdown",
   "metadata": {},
   "source": [
    "### Problem 1.A Graded Answer"
   ]
  },
  {
   "cell_type": "code",
   "execution_count": 76,
   "metadata": {},
   "outputs": [
    {
     "name": "stdout",
     "output_type": "stream",
     "text": [
      "a1a = $38,773.17\n"
     ]
    }
   ],
   "source": [
    "# TODO:  Set the variable to the baseline CV MSE score\n",
    "\n",
    "a1a = mean_cv_mse                               # Just to get it to run without error; your answer here           \n",
    "\n",
    "print(f'a1a = ${a1a:,.2f}')"
   ]
  },
  {
   "cell_type": "code",
   "execution_count": 77,
   "metadata": {},
   "outputs": [
    {
     "name": "stdout",
     "output_type": "stream",
     "text": [
      "{'model_type': 'Baseline Decision Tree', 'RMSE': 38773.1748, 'max_depth': None, 'max_leaf_nodes': None, 'execution_time': '0.32s'}\n"
     ]
    }
   ],
   "source": [
    "dict_1a = summarize('Baseline Decision Tree', a1a.round(4), execution_time=execution_time)\n",
    "print(dict_1a)"
   ]
  },
  {
   "cell_type": "markdown",
   "metadata": {},
   "source": [
    "### Part 1.B\n",
    "\n",
    "In the next cell, adapt the code from the video notebook to plot CV MSE vs max_depth with the following modifications:\n",
    "\n",
    "- Determine an appropriate range of max_depth values that zero in on the optimum. If the best value occurs at either end of your range, it indicates you may not have captured the true minimum—expand your range accordingly.\n",
    "- Update your plot labels and printout to reflect that you are reporting the root mean square error (RMSE) in dollars. Use the following line in your plotting code to format the Y-axis labels in dollars:\n",
    "  ```python\n",
    "  plt.gca().yaxis.set_major_formatter(mticker.FuncFormatter(dollar_format))\n",
    "  ```\n",
    "\n",
    "**Note:** The code in the video notebook may not always use default settings. For this experiment, ensure that all parameters except `max_depth` are set to their default values. "
   ]
  },
  {
   "cell_type": "code",
   "execution_count": 78,
   "metadata": {},
   "outputs": [
    {
     "name": "stderr",
     "output_type": "stream",
     "text": [
      "100%|██████████| 16/16 [00:04<00:00,  3.95it/s]\n"
     ]
    },
    {
     "data": {
      "image/png": "[encoded data removed]",
      "text/plain": [
       "<Figure size 600x400 with 1 Axes>"
      ]
     },
     "metadata": {},
     "output_type": "display_data"
    },
    {
     "name": "stdout",
     "output_type": "stream",
     "text": [
      "Minimum MSE 36890.0153 found at max depth = 6\n",
      "Execution Time: 4.20s\n"
     ]
    }
   ],
   "source": [
    "# Cut and paste the code from the video notebook to plot and find the best max_depth\n",
    "\n",
    "\n",
    "# record beginning time\n",
    "start = time.time()\n",
    "\n",
    "param = 'max_depth'  \n",
    "\n",
    "parameter_list = range(2,18)      \n",
    "\n",
    "MSEs = []\n",
    "\n",
    "for d in tqdm(parameter_list):\n",
    "\n",
    "    MSEs.append( run_decision_tree_regressor(X_train,y_train,\n",
    "                                             max_depth = d,                      \n",
    "                                             max_features=None,\n",
    "                                             min_samples_split=2,\n",
    "                                             min_samples_leaf=1,\n",
    "                                             max_leaf_nodes=None,    \n",
    "                                             criterion='squared_error',\n",
    "                                             ccp_alpha=0.0,\n",
    "                                             random_state=random_state,\n",
    "                                             cv=5,\n",
    "                                             n_jobs= -1,\n",
    "                                             visualize=False,\n",
    "                                            exp_factor = 0.5) \n",
    "                                            )\n",
    "                                            \n",
    "     \n",
    "\n",
    "# Find the minimum value\n",
    "min_MSE = min(MSEs)\n",
    "\n",
    "# Find the index of the minimum value\n",
    "min_index = MSEs.index(min_MSE)\n",
    "\n",
    "plt.figure(figsize=(6, 4))\n",
    "plt.title(f\"Decision Tree Regressor: RMSE vs \"+param)\n",
    "plt.plot(parameter_list, MSEs, marker='.')\n",
    "plt.scatter([parameter_list[min_index]],[min_MSE],marker='x',color='red')\n",
    "plt.xlabel(param)\n",
    "plt.ylabel(\"RMSE\")\n",
    "plt.gca().yaxis.set_major_formatter(mticker.FuncFormatter(dollar_format))\n",
    "plt.grid()\n",
    "plt.tight_layout()\n",
    "plt.show()\n",
    "\n",
    "if isinstance(parameter_list[min_index], int):\n",
    "    print(f\"Minimum MSE {min_MSE:.4f} found at max depth = {parameter_list[min_index]}\")\n",
    "else:\n",
    "    print(f\"Minimum MSE {min_MSE:.4f} found at max depth = {parameter_list[min_index]:.4f}\")\n",
    "\n",
    "# Record end time and execution time\n",
    "end = time.time()\n",
    "execution_time = end - start\n",
    "print(f\"Execution Time: \" + format_time(end-start))"
   ]
  },
  {
   "cell_type": "markdown",
   "metadata": {},
   "source": [
    "### Problem 1.B Graded Answer"
   ]
  },
  {
   "cell_type": "code",
   "execution_count": 79,
   "metadata": {},
   "outputs": [
    {
     "name": "stdout",
     "output_type": "stream",
     "text": [
      "a1b = 36890.0153\n"
     ]
    }
   ],
   "source": [
    "# TODO:  Set the variable to the depth found which results in the lowest CV MSE score\n",
    "\n",
    "a1b = min_MSE.round(4)                               # Just to get it to run without error; your answer here           \n",
    "\n",
    "print(f'a1b = {a1b}')"
   ]
  },
  {
   "cell_type": "code",
   "execution_count": 80,
   "metadata": {},
   "outputs": [
    {
     "name": "stdout",
     "output_type": "stream",
     "text": [
      "{'model_type': 'Max Depth Test', 'RMSE': 36890.0153, 'max_depth': 6, 'max_leaf_nodes': None, 'execution_time': '4.20s'}\n"
     ]
    }
   ],
   "source": [
    "dict_1b = summarize('Max Depth Test', a1b.round(4), max_depth=parameter_list[min_index], execution_time=execution_time)\n",
    "print(dict_1b)"
   ]
  },
  {
   "cell_type": "markdown",
   "metadata": {},
   "source": [
    "### Part 1.C\n",
    "\n",
    "Now, perform the same experiment as in Part 1.B—but this time, focus on tuning the `max_leaf_nodes` parameter.\n",
    "\n",
    "**Notes:**\n",
    "\n",
    "- Ensure that `max_size` is set to `None` so that you can isolate the effect of `max_leaf_nodes` on limiting the size of the tree.\n",
    "- The range of values for `max_leaf_nodes` will differ considerably from that used for `max_depth`. Experiment with a wide range until you find a minimum that does not occur at either end of your tested interval.\n",
    "\n",
    "Remember to apply the same modifications as in Part 1.B, including updating your plot labels and printout to reflect that the metric is reported in dollars (using the line below to format the y-axis):\n",
    "\n",
    "```python\n",
    "plt.gca().yaxis.set_major_formatter(mticker.FuncFormatter(dollar_format))\n",
    "```\n",
    "\n",
    "After generating your plot and results, provide your answer for the graded question."
   ]
  },
  {
   "cell_type": "code",
   "execution_count": 81,
   "metadata": {},
   "outputs": [
    {
     "name": "stderr",
     "output_type": "stream",
     "text": [
      "100%|██████████| 148/148 [00:35<00:00,  4.16it/s]\n"
     ]
    },
    {
     "data": {
      "image/png": "[encoded data removed]",
      "text/plain": [
       "<Figure size 600x400 with 1 Axes>"
      ]
     },
     "metadata": {},
     "output_type": "display_data"
    },
    {
     "name": "stdout",
     "output_type": "stream",
     "text": [
      "Minimum MSE 37000.8058 found at max_leaf_nodes = 84\n",
      "Execution Time: 35.65s\n"
     ]
    }
   ],
   "source": [
    "# Your code here\n",
    "# record beginning time\n",
    "start = time.time()\n",
    "\n",
    "param = 'max_leaf_nodes'  \n",
    "\n",
    "parameter_list = range(2,150)      \n",
    "\n",
    "MSEs = []\n",
    "\n",
    "for d in tqdm(parameter_list):\n",
    "\n",
    "    MSEs.append( run_decision_tree_regressor(X_train,y_train,\n",
    "                                             max_depth = None,                      \n",
    "                                             max_features=None,\n",
    "                                             min_samples_split=2,\n",
    "                                             min_samples_leaf=1,\n",
    "                                             max_leaf_nodes = d,    \n",
    "                                             criterion='squared_error',\n",
    "                                             ccp_alpha=0.0,\n",
    "                                             random_state=random_state,\n",
    "                                             cv=5,\n",
    "                                             n_jobs= -1,\n",
    "                                             visualize=False,\n",
    "                                            exp_factor = 0.5) \n",
    "                                            )\n",
    "                                            \n",
    "     \n",
    "\n",
    "# Find the minimum value\n",
    "min_MSE = min(MSEs)\n",
    "\n",
    "# Find the index of the minimum value\n",
    "min_index = MSEs.index(min_MSE)\n",
    "\n",
    "plt.figure(figsize=(6, 4))\n",
    "plt.title(f\"Decision Tree Regressor: RMSE vs \"+param)\n",
    "plt.plot(parameter_list, MSEs, marker='.')\n",
    "plt.scatter([parameter_list[min_index]],[min_MSE],marker='x',color='red')\n",
    "plt.xlabel(param)\n",
    "plt.ylabel(\"RMSE\")\n",
    "plt.gca().yaxis.set_major_formatter(mticker.FuncFormatter(dollar_format))\n",
    "plt.grid()\n",
    "plt.tight_layout()\n",
    "plt.show()\n",
    "\n",
    "if isinstance(parameter_list[min_index], int):\n",
    "    print(f\"Minimum MSE {min_MSE:.4f} found at {param} = {parameter_list[min_index]}\")\n",
    "else:\n",
    "    print(f\"Minimum MSE {min_MSE:.4f} found at {param} = {parameter_list[min_index]:.4f}\")\n",
    "\n",
    "# Record end time and execution time\n",
    "end = time.time()\n",
    "execution_time = end - start\n",
    "print(f\"Execution Time: \" + format_time(end-start))\n",
    "\n"
   ]
  },
  {
   "cell_type": "code",
   "execution_count": 82,
   "metadata": {},
   "outputs": [
    {
     "name": "stdout",
     "output_type": "stream",
     "text": [
      "{'model_type': 'Max Leaf Nodes Test', 'RMSE': 37000.8058, 'max_depth': None, 'max_leaf_nodes': 84, 'execution_time': '35.65s'}\n"
     ]
    }
   ],
   "source": [
    "dict_1c = summarize('Max Leaf Nodes Test', min_MSE.round(4), max_leaf_nodes=parameter_list[min_index], execution_time=execution_time)\n",
    "print(dict_1c)"
   ]
  },
  {
   "cell_type": "markdown",
   "metadata": {},
   "source": [
    "### Problem 1.C Graded Answer"
   ]
  },
  {
   "cell_type": "code",
   "execution_count": 83,
   "metadata": {},
   "outputs": [
    {
     "name": "stdout",
     "output_type": "stream",
     "text": [
      "a1c = 1\n"
     ]
    }
   ],
   "source": [
    "# TODO:  Which method provided the best CV score?\n",
    "\n",
    "a1c =  1                                        # Answer should be 1 = max_depth or 2 = max_leaf_nodes                                        \n",
    "\n",
    "print(f'a1c = {a1c}')"
   ]
  },
  {
   "cell_type": "markdown",
   "metadata": {},
   "source": [
    "### Part 1.D\n",
    "\n",
    "Limiting the size of a decision tree using `max_depth` (depth) and `max_leaf_nodes` (width) affects the model in different ways. A natural question arises: is there a combination of these two parameters that yields a better score than tuning either one alone?\n",
    "\n",
    "Because the tradeoff between depth and width might not be clearly captured in a 2D plot, we'll use `GridSearchCV` to systematically explore combinations of values.\n",
    "\n",
    "**What to Do:**\n",
    "\n",
    "- In the next cell, write code that uses `GridSearchCV` to search over a grid of values for both max_depth and max_leaf_nodes.\n",
    "- Use the ranges you explored in Parts 1.B and 1.C, but also include `None` (e.g., `[None] + list(range(2, 18))`) to test whether the default setting is optimal.\n",
    "- This grid search may take a while to run, depending on your computing resources.\n",
    "- After the grid search completes, print out the top 10 results. These results will automatically include the MSE and RMSE scores.\n",
    "- Finally, display the top 10 parameter pairs (combinations of `max_depth` and `max_leaf_nodes`) that produced the best scores.\n",
    "\n",
    "Before you start, please review the `GridSearchCV` documentation if you haven't already done so. "
   ]
  },
  {
   "cell_type": "code",
   "execution_count": 10,
   "metadata": {},
   "outputs": [],
   "source": [
    "# Your code here\n"
   ]
  },
  {
   "cell_type": "markdown",
   "metadata": {},
   "source": [
    "### Problem 1.D Graded Answer"
   ]
  },
  {
   "cell_type": "code",
   "execution_count": 11,
   "metadata": {},
   "outputs": [
    {
     "name": "stdout",
     "output_type": "stream",
     "text": [
      "a1d = $0.00\n"
     ]
    }
   ],
   "source": [
    "# TODO:  One of these three experiments determined which parameter choices results in the best (lowest) CV RMSE score\n",
    "#        Set the variable to this best score found so far\n",
    "\n",
    "a1d =  0.0                                # Just to get it to run without error; your answer here                                                                                  \n",
    "\n",
    "print(f'a1d = ${a1d:,.2f}')"
   ]
  },
  {
   "cell_type": "markdown",
   "metadata": {},
   "source": [
    "## Problem Two: Adding Feature Selection and Randomness with max_features\n",
    "\n",
    "In this problem, you will build on the best model from Problem One by exploring the effect of the `max_features` parameter. This parameter does two key things:\n",
    "\n",
    "- It performs variable selection at the level of each split by considering only a subset of features (we will revisit this idea in Week 9).\n",
    "- It randomly chooses this subset at each split, encouraging the model to explore different parts of the feature space. This randomness can improve performance, especially when used with ensemble methods (which we will study next week).\n",
    "\n",
    "What to Do:\n",
    "\n",
    "- Use the best model from Problem One and vary only the `max_features` parameter.\n",
    "- Experiment with a range of values from 1 up to the total number of features in the dataset.\n",
    "- Print out the plot and the results, and answer the graded question as usual.\n",
    "- Do not use `GridSearchCV` for this problem.\n",
    "- Do not reset all parameters to their defaults; keep the best settings from Problem One and only change `max_features`."
   ]
  },
  {
   "cell_type": "code",
   "execution_count": 12,
   "metadata": {},
   "outputs": [],
   "source": [
    "# Your code here\n",
    "\n",
    "\n"
   ]
  },
  {
   "cell_type": "markdown",
   "metadata": {},
   "source": [
    "### Problem 2 Graded Answer"
   ]
  },
  {
   "cell_type": "code",
   "execution_count": 13,
   "metadata": {},
   "outputs": [
    {
     "name": "stdout",
     "output_type": "stream",
     "text": [
      "a2 = $0.00\n"
     ]
    }
   ],
   "source": [
    "# TODO:  This *should* have produced an improvement in the score. Assign the variable to this new, improved CV RMSE score\n",
    "\n",
    "a2 =  0.0                                # Just to get it to run without error; your answer here                                                                              \n",
    "\n",
    "print(f'a2 = ${a2:,.2f}')"
   ]
  },
  {
   "cell_type": "markdown",
   "metadata": {},
   "source": [
    "## Problem Three: Controlling Node Splitting with min_samples_split\n",
    "\n",
    "In this problem, you will investigate how the min_samples_split parameter affects your decision tree’s performance. Using the best model configuration obtained from Problems One and Two, vary only the `min_samples_split` parameter while keeping all other parameters fixed.\n",
    "\n",
    "**What to Do:**\n",
    "\n",
    "- As before, experiment with different values of `min_samples_split`, starting with a lower bound of 2.\n",
    "- Plot the CV RMSE against the different values of `min_samples_split` and print out your results.\n",
    "- Do not use `GridSearchCV` for this experiment.\n",
    "- Make sure that only the `min_samples_split` parameter is varied; all other parameters should remain at the best settings you’ve found so far.\n",
    "- Finally, answer the graded question based on your findings.\n",
    " "
   ]
  },
  {
   "cell_type": "code",
   "execution_count": 14,
   "metadata": {},
   "outputs": [],
   "source": [
    "# Your code here\n",
    "\n",
    "\n"
   ]
  },
  {
   "cell_type": "markdown",
   "metadata": {},
   "source": [
    "### Problem 3 Graded Answer"
   ]
  },
  {
   "cell_type": "code",
   "execution_count": 15,
   "metadata": {},
   "outputs": [
    {
     "name": "stdout",
     "output_type": "stream",
     "text": [
      "a3 = $0.00\n"
     ]
    }
   ],
   "source": [
    "# TODO:  Assign the variable to this best CV RMSE score.\n",
    "\n",
    "a3 = 0.0                                # Just to get it to run without error; your answer here                                                                               \n",
    "\n",
    "print(f'a3 = ${a3:,.2f}')"
   ]
  },
  {
   "attachments": {
    "290c722e-d32b-40fe-a11f-89abf2304b60.png": {
     "image/png": "[encoded data removed]"
    },
    "c7e9469b-0e74-4fbe-91b7-40b0c4b802e4.png": {
     "image/png": "[encoded data removed]"
    }
   },
   "cell_type": "markdown",
   "metadata": {},
   "source": [
    "## **Problem Four: Fine-Tuning Your Model**\n",
    "\n",
    "Now that we have a solid understanding of how our parameters influence model performance, it’s time to refine our search. Instead of testing large parameter ranges blindly, we will **use insights from previous experiments** to focus on the most promising values—balancing accuracy with computational efficiency.\n",
    "\n",
    "### **Our Strategy**\n",
    "Rather than searching the entire parameter space, we aim to **narrow down** our grid search to ranges where the optimal model is most likely to be found. The goal is to **eliminate unlikely parameter values** while still thoroughly exploring regions of uncertainty. Consider these two plots:\n",
    "\n",
    "\n",
    "![Screenshot 2025-02-21 at 4.32.59 PM.png](attachment:290c722e-d32b-40fe-a11f-89abf2304b60.png)\n",
    "\n",
    "\n",
    "![Screenshot 2025-02-21 at 4.33.12 PM.png](attachment:c7e9469b-0e74-4fbe-91b7-40b0c4b802e4.png)\n",
    "\n",
    "For example:\n",
    "- In the first plot, there is a clear performance plateau, so searching outside the highlighted range is likely unnecessary.\n",
    "- In the second plot, the best region is less obvious, so we could not eliminate any part of the space from consideration. \n",
    "\n",
    "### **What to Do**\n",
    "- Using insights from **Problems One through Three**, select **refined parameter ranges** for the three key parameters.\n",
    "- Perform a **grid search** over these restricted ranges.\n",
    "- Print out the **top 10 results** as before. \n",
    "- Summarize your findings and answer the graded questions.\n"
   ]
  },
  {
   "cell_type": "code",
   "execution_count": 16,
   "metadata": {},
   "outputs": [],
   "source": [
    "# Your code here\n"
   ]
  },
  {
   "cell_type": "markdown",
   "metadata": {},
   "source": [
    "### Problem 4 Graded Answers"
   ]
  },
  {
   "cell_type": "code",
   "execution_count": 17,
   "metadata": {},
   "outputs": [
    {
     "name": "stdout",
     "output_type": "stream",
     "text": [
      "a4a = Ellipsis\n"
     ]
    }
   ],
   "source": [
    "# TODO:  Set the variable to a triple of the three optimal parameter values found\n",
    "\n",
    "a4a = ...                            # Your answer should be a triple ( best max_depth, best max_features, best min_samples_split)\n",
    "\n",
    "print(f'a4a = {a4a}')"
   ]
  },
  {
   "cell_type": "code",
   "execution_count": 18,
   "metadata": {},
   "outputs": [
    {
     "name": "stdout",
     "output_type": "stream",
     "text": [
      "a4b = $0.00\n"
     ]
    }
   ],
   "source": [
    "# TODO:  Set to a triple of the best CV score found\n",
    "\n",
    "a4b = 0.0                                # Just to get it to run without error; your answer here   \n",
    "\n",
    "print(f'a4b = ${a4b:,.2f}')"
   ]
  },
  {
   "cell_type": "markdown",
   "metadata": {},
   "source": [
    "## Appendix: Which DecisionTree parameters are most important?\n",
    "\n",
    "When first exploring  a complex model such as decision trees, it’s best to focus first on those parameters that most directly affect the shape of the tree and the method used for splitting nodes. Some parameters are more important than others, especially when first using a model. Here is an approximate ordering of the parameters from most significant to least. We will only experiment with the first 4 of these parameters in this homework. \n",
    "\n",
    "---\n",
    "\n",
    "1. **max_depth** (default: **None**)  \n",
    "   *Controls the maximum depth of the tree, which is crucial for managing overfitting and overall model complexity.*\n",
    "\n",
    "2. **max_leaf_nodes** (default: **None**)  \n",
    "   *An alternative to max_depth, this limits the number of leaf nodes and can be used to control tree size in a different way.*\n",
    "\n",
    "3. **max_features** (default: **None**)  \n",
    "   *Determines the maximum number of features considered when looking for the best split. Tuning this can affect the bias-variance trade-off.*\n",
    "\n",
    "4. **min_samples_split** (default: **2**)  \n",
    "   *Specifies the minimum number of samples required to split an internal node. It influences how “greedy” the tree is in creating splits.*\n",
    "\n",
    "---\n",
    "\n",
    "5. **criterion** (default: **'squared_error'**)  \n",
    "   *Chooses the function to measure the quality of a split (e.g., squared_error, absolute_error, etc.). Experimenting with this can reveal how different error metrics impact performance.*\n",
    "\n",
    "6. **splitter** (default: **'best'**)  \n",
    "   *Decides the strategy used to choose the split at each node (typically \"best\" or \"random\"). While its effect is subtler, exploring it can be educational.*\n",
    "\n",
    "7. **min_samples_leaf** (default: **1**)  \n",
    "   *Sets the minimum number of samples that must be present in a leaf. This parameter helps prevent creating leaves with very few samples, thus reducing overfitting.*\n",
    "\n",
    "\n",
    "8. **ccp_alpha** (default: **0.0**)  \n",
    "   *The complexity parameter for Minimal Cost-Complexity Pruning. It’s useful for understanding pruning techniques, though it’s a bit more advanced.*\n",
    "\n",
    "9. **min_impurity_decrease** (default: **0.0**)  \n",
    "   *A node will be split only if the split results in a decrease in impurity greater than or equal to this threshold. It provides another way to control overfitting.*\n",
    "\n",
    "10. **min_weight_fraction_leaf** (default: **0.0**)  \n",
    "    *Ensures that each leaf has a minimum weighted fraction of the total. It’s less commonly tuned but can be relevant when sample weights matter.*\n",
    "\n",
    "11. **random_state** (default: **None**)  \n",
    "    *Used only for reproducibility, traditionally as `random_state = 42`. It doesn’t affect the model’s learning, but ensures that results are consistent across runs. Set to `None` for more realistic random behavior typical for deployed systems. \n",
    "\n"
   ]
  }
 ],
 "metadata": {
  "kernelspec": {
   "display_name": "base",
   "language": "python",
   "name": "python3"
  },
  "language_info": {
   "codemirror_mode": {
    "name": "ipython",
    "version": 3
   },
   "file_extension": ".py",
   "mimetype": "text/x-python",
   "name": "python",
   "nbconvert_exporter": "python",
   "pygments_lexer": "ipython3",
   "version": "3.12.2"
  }
 },
 "nbformat": 4,
 "nbformat_minor": 4
}
